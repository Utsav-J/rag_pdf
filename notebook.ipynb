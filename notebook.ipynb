{
 "cells": [
  {
   "cell_type": "code",
   "execution_count": 1,
   "metadata": {},
   "outputs": [
    {
     "data": {
      "text/plain": [
       "True"
      ]
     },
     "execution_count": 1,
     "metadata": {},
     "output_type": "execute_result"
    }
   ],
   "source": [
    "import os\n",
    "from dotenv import load_dotenv\n",
    "\n",
    "load_dotenv()"
   ]
  },
  {
   "cell_type": "code",
   "execution_count": 6,
   "metadata": {},
   "outputs": [],
   "source": [
    "openai_api_key = os.getenv('OPENAI_API_KEY')\n",
    "MODEL = 'llama2'"
   ]
  },
  {
   "cell_type": "code",
   "execution_count": 7,
   "metadata": {},
   "outputs": [],
   "source": [
    "from langchain_openai.chat_models import ChatOpenAI\n",
    "from langchain_community.llms import Ollama\n",
    "from langchain_openai import OpenAIEmbeddings\n",
    "from langchain_community.embeddings import OllamaEmbeddings\n"
   ]
  },
  {
   "cell_type": "code",
   "execution_count": 8,
   "metadata": {},
   "outputs": [],
   "source": [
    "if MODEL.startswith('gpt'):\n",
    "    model = ChatOpenAI(api_key=openai_api_key, model =MODEL)\n",
    "    embeddings = OpenAIEmbeddings()\n",
    "else:\n",
    "    model = Ollama(model = MODEL)\n",
    "    embeddings = OllamaEmbeddings()\n"
   ]
  },
  {
   "cell_type": "code",
   "execution_count": 9,
   "metadata": {},
   "outputs": [
    {
     "data": {
      "text/plain": [
       "'\\nWeather refers to the state of the atmosphere at a particular place and time, including various phenomena such as temperature, humidity, cloudiness, wind speed, and precipitation. The weather can vary greatly depending on the location and time of year, and can have a significant impact on daily activities and human health.\\n\\nThere are several types of weather conditions that can occur, including:\\n\\n1. Sunny weather: This occurs when the sky is clear and there is no cloud cover.\\n2. Cloudy weather: This occurs when there are clouds in the sky, but they do not produce precipitation.\\n3. Precipitation: This occurs when water droplets or ice crystals fall from the sky, such as rain, snow, sleet, or hail.\\n4. Fog: This occurs when there is a thick layer of cloud close to the ground, reducing visibility.\\n5. Wind: This occurs when there are gusts of air moving through the atmosphere.\\n6. Thunderstorm: This occurs when there is a severe storm with thunder and lightning.\\n7. Hail: This occurs when there is a sudden drop in temperature and water vapor in the atmosphere, causing ice crystals to form.\\n8. Blizzard: This occurs when there is heavy snowfall and strong winds, making it difficult to travel or venture outside.\\n9. Heatwave: This occurs when there are prolonged periods of abnormally hot weather, often accompanied by high humidity.\\n10. Drought: This occurs when there is a prolonged period of dry conditions, with little or no rainfall.\\n\\nWeather can have a significant impact on various aspects of our lives, including:\\n\\n1. Agriculture: Weather can affect the growth and yield of crops, as well as the quality of the soil.\\n2. Transportation: Weather can make it difficult or impossible to travel by car, plane, or other modes of transportation.\\n3. Recreation: Weather can impact outdoor activities such as sports, hiking, and camping.\\n4. Health: Extreme weather conditions can have negative effects on human health, such as heat exhaustion or hypothermia.\\n5. Economy: Weather can affect the economy by disrupting supply chains, damaging infrastructure, and impacting businesses.\\n\\nOverall, weather is an important aspect of our daily lives, and it can have significant impacts on various aspects of society and the environment.'"
      ]
     },
     "execution_count": 9,
     "metadata": {},
     "output_type": "execute_result"
    }
   ],
   "source": [
    "model.invoke('define weather')"
   ]
  },
  {
   "cell_type": "code",
   "execution_count": 10,
   "metadata": {},
   "outputs": [],
   "source": [
    "from langchain_core.output_parsers import StrOutputParser\n",
    "parser = StrOutputParser()\n",
    "chain = model | parser\n",
    "\n",
    "ans = chain.invoke('Tell me a joke')"
   ]
  },
  {
   "cell_type": "code",
   "execution_count": 11,
   "metadata": {},
   "outputs": [
    {
     "name": "stdout",
     "output_type": "stream",
     "text": [
      "Sure! Here's one:\n",
      "\n",
      "Why don't scientists trust atoms?\n",
      "Because they make up everything!\n",
      "\n",
      "I hope that brought a smile to your face! Do you want to hear another one?\n"
     ]
    }
   ],
   "source": [
    "print(ans)"
   ]
  },
  {
   "cell_type": "code",
   "execution_count": 12,
   "metadata": {},
   "outputs": [],
   "source": [
    "from langchain.document_loaders import PyPDFLoader\n",
    "loader = PyPDFLoader('team6_serverprocessors.pdf')"
   ]
  },
  {
   "cell_type": "code",
   "execution_count": 13,
   "metadata": {},
   "outputs": [],
   "source": [
    "chunks = loader.load_and_split()"
   ]
  },
  {
   "cell_type": "code",
   "execution_count": 14,
   "metadata": {},
   "outputs": [
    {
     "data": {
      "text/plain": [
       "18"
      ]
     },
     "execution_count": 14,
     "metadata": {},
     "output_type": "execute_result"
    }
   ],
   "source": [
    "len(chunks)"
   ]
  },
  {
   "cell_type": "code",
   "execution_count": 15,
   "metadata": {},
   "outputs": [],
   "source": [
    "from langchain.prompts import PromptTemplate\n",
    "template = '''\n",
    "Answer the question based on the context given below\n",
    "If you dont know the answer simply return 'I don\\'t know'\n",
    "Context: {context}\n",
    "Question: {question}\n",
    "'''\n",
    "\n",
    "prompt = PromptTemplate(\n",
    "    input_variables=['context', 'question'],\n",
    "    template=template\n",
    ")"
   ]
  },
  {
   "cell_type": "code",
   "execution_count": 16,
   "metadata": {},
   "outputs": [
    {
     "data": {
      "text/plain": [
       "\"\\nAnswer the question based on the context given below\\nIf you dont know the answer simply return 'I don't know'\\nContext: Here is a context\\nQuestion: Here is a question\\n\""
      ]
     },
     "execution_count": 16,
     "metadata": {},
     "output_type": "execute_result"
    }
   ],
   "source": [
    "prompt.format(context= 'Here is a context',question ='Here is a question')"
   ]
  },
  {
   "cell_type": "code",
   "execution_count": 17,
   "metadata": {},
   "outputs": [],
   "source": [
    "chain = prompt | model | parser"
   ]
  },
  {
   "cell_type": "code",
   "execution_count": 18,
   "metadata": {},
   "outputs": [
    {
     "name": "stdout",
     "output_type": "stream",
     "text": [
      "This will help understand the input that a chain expects\n"
     ]
    },
    {
     "data": {
      "text/plain": [
       "{'title': 'PromptInput',\n",
       " 'type': 'object',\n",
       " 'properties': {'context': {'title': 'Context', 'type': 'string'},\n",
       "  'question': {'title': 'Question', 'type': 'string'}}}"
      ]
     },
     "execution_count": 18,
     "metadata": {},
     "output_type": "execute_result"
    }
   ],
   "source": [
    "print('This will help understand the input that a chain expects')\n",
    "chain.input_schema.schema()"
   ]
  },
  {
   "cell_type": "code",
   "execution_count": 19,
   "metadata": {},
   "outputs": [
    {
     "data": {
      "text/plain": [
       "'Sure! Based on the context provided, your name is Utsav.'"
      ]
     },
     "execution_count": 19,
     "metadata": {},
     "output_type": "execute_result"
    }
   ],
   "source": [
    "chain.invoke(\n",
    "    {\n",
    "        'context':'everyone at school calls me Utsav',\n",
    "        'question':'what is my name?' \n",
    "    }\n",
    ")"
   ]
  },
  {
   "cell_type": "code",
   "execution_count": 20,
   "metadata": {},
   "outputs": [],
   "source": [
    "from langchain_community.vectorstores import DocArrayInMemorySearch\n"
   ]
  },
  {
   "cell_type": "code",
   "execution_count": 21,
   "metadata": {},
   "outputs": [],
   "source": [
    "vector_store = DocArrayInMemorySearch.from_documents(chunks, embedding=embeddings, )"
   ]
  },
  {
   "cell_type": "code",
   "execution_count": 28,
   "metadata": {},
   "outputs": [],
   "source": [
    "vs_retriever = vector_store.as_retriever()"
   ]
  },
  {
   "cell_type": "code",
   "execution_count": 29,
   "metadata": {},
   "outputs": [
    {
     "data": {
      "text/plain": [
       "[Document(page_content='B. Specifications  \\nThe AMD EPYC 9000 series is known for its Exceptional \\nPerformance . It utilizes a Zen 4 architecture  for enhanced \\nperformance  while offering  up to 128 cores, setting a new \\nstandard for processing power.  It also i incorporates innovative \\n3D V -Cache Technology, boosting cache capacity and \\nimproving performance.  Similarly, it also supports high -\\nbandwidth DDR5 memory, ensuring efficient data access and \\nthroughput.  \\nIn the security aspect, the processor is protected by A MD \\nInfinity Guard, providing comprehensive security features to \\nsafeguard critical data and infrastructure.  \\nAMD EPYC™ processors are recognized as the most energy -\\nefficient x86 servers in the industry.  Balances exceptional \\nperformance with reduced energy c onsumption, leading to cost \\nsavings for data center operators.', metadata={'source': 'team6_serverprocessors.pdf', 'page': 3}),\n",
       " Document(page_content='easily, and create the virtualized server deploym ent more \\nefficiently with it.  \\nD. Weaknesses  \\n \\n1.) Cost:  \\nThe main difference between Xeon processors and consumer -\\ngrade CPUs is the expense. This makes it a challenge for small \\nfirms and price -conscious users. The high upfront price, with \\nthe need for high -end components and infrastructure to \\nsupplement them, may be a hurdle for some businesses, \\nfinancially.  \\n2.) Power Consumption:  \\nXeon processors, designed with a focus on performance, could \\ndemand more power in general than their less powerful cousins. \\nIt might res ult in an above average energy usage rate which will \\nconsequently increase the overall operational costs especially in \\nlarge -scale data centre systems where generally there are power \\nefficiency issues.', metadata={'source': 'team6_serverprocessors.pdf', 'page': 2}),\n",
       " Document(page_content='later editions, are the key to the combination of the most \\nadvanced technologies and close design work. These processors \\nhave been developed by the manufacturers to address the \\ndifferent needs of an advanced data center hardware appliance \\nwith their edge in the areas of performance, scalability, and \\nsecurity.  \\nSkylake Xeon processors, adopting the 2017 introduction, \\nmarked a new era of server computing with increased Core \\nCounts, Memory Bandwidth enhancement and top -level (fine -\\ngrained) security features [5 ]. The following versions, such as \\nCascade Lake and Ice Lake, have been extensively tested and of \\ncourse, further pushed the performance and efficiency  \\nboundaries, implementing technology as well as architectural \\noptimizations [2 ][9].', metadata={'source': 'team6_serverprocessors.pdf', 'page': 0}),\n",
       " Document(page_content='Francisco, CA, USA, 2018, pp. 34 -36, doi: \\n10.1109/ISSCC.2018.8310170.  \\n[10] H. P B, S. R. Anireddy, J. F T and V. R, \"Introduction to ARM processors \\n& its types and Overvi ew to Cortex M series with deep explanation of each \\nof the processors in this Family,\" 2022 International Conference on \\nComputer Communication and Informatics (ICCCI), Coimbatore, India, \\n2022, pp. 1 -8, doi: 10.1109/ICCCI54379.2022.9740768.  \\n[11] L. Padoin , D. A. G. d. Oliveira, P. Velho and P. O. A. Navaux, \"Time -to-\\nSolution and Energy -to-Solution: A Comparison between ARM and \\nXeon,\" 2012 Third Workshop on Applications for Multi -Core \\nArchitecture, New York, NY, USA, 2012, pp. 48 -53, doi: \\n10.1109/WAMCA.2012 .10. \\n[12] R. Christy et al., \"8.3 A 3GHz ARM Neoverse N1 CPU in 7nm FinFET \\nfor Infrastructure Applications,\" 2020 IEEE International Solid -State \\nCircuits Conference - (ISSCC), San Francisco, CA, USA, 2020, pp. 148 -\\n150, doi: 10.1109/ISSCC19947.2020.9062889.  \\n[13] Pellegrini and C. Abernathy, \"Arm Neoverse N1 Cloud -to-Edge \\nInfrastructure SoCs,\" 2019 IEEE Hot Chips 31 Symposium (HCS), \\nCupertino, CA, USA, 2019, pp. 1 -21, doi: \\n10.1109/HOTCHIPS.2019.8875640.  \\n[14] M. Bruce, \"Arm Neoverse V2 platform: Leadership Performance and \\nPower Efficiency for Next -Generation Cloud Computing, ML and HPC \\nWorkloads,\" 2023 IEEE Hot Chips 35 Symposium (HCS), Palo Alto, CA, \\nUSA, 2023, pp. 1 -25, doi: 10.1109/HCS59251.2023.10254718.  \\n[15] A. Pellegrini, \"Arm Neoverse N2: Arm’s 2nd gen eration high performance \\ninfrastructure CPUs and system IPs,\" 2021 IEEE Hot Chips 33 \\nSymposium (HCS), Palo Alto, CA, USA, 2021, pp. 1 -27, doi: \\n10.1109/HCS52781.2021.9567483.', metadata={'source': 'team6_serverprocessors.pdf', 'page': 10})]"
      ]
     },
     "execution_count": 29,
     "metadata": {},
     "output_type": "execute_result"
    }
   ],
   "source": [
    "vs_retriever.invoke('What is the title?')"
   ]
  },
  {
   "cell_type": "code",
   "execution_count": 30,
   "metadata": {},
   "outputs": [
    {
     "data": {
      "text/plain": [
       "'The title of the paper is \"A Comparative Study of Intel Xeon Processors for Server Computing\".'"
      ]
     },
     "execution_count": 30,
     "metadata": {},
     "output_type": "execute_result"
    }
   ],
   "source": [
    "from operator import itemgetter\n",
    "\n",
    "chain = (\n",
    "    {\n",
    "        \"context\": itemgetter(\"question\") | vs_retriever, \n",
    "        \"question\": itemgetter(\"question\")\n",
    "    }\n",
    "    | prompt\n",
    "    | model\n",
    "    | parser\n",
    ")\n",
    "\n",
    "chain.invoke({\"question\":\"What is the title of the paper?\"})"
   ]
  },
  {
   "cell_type": "code",
   "execution_count": 31,
   "metadata": {},
   "outputs": [],
   "source": [
    "questions = [\n",
    "    'what are the topics covered in the paper?',\n",
    "    'how many references are make in the paper?',\n",
    "    'which processor is the best out of all?',\n",
    "    'what are the strengths of intel\\'s server processor?'\n",
    "]"
   ]
  },
  {
   "cell_type": "code",
   "execution_count": 33,
   "metadata": {},
   "outputs": [
    {
     "name": "stdout",
     "output_type": "stream",
     "text": [
      "Question: what are the topics covered in the paper?\n",
      "Answer: Based on the provided reference list, the following are some of the topics covered in the paper:\n",
      "\n",
      "1. Introduction to ARM processors and their types\n",
      "2. Overview of Cortex M series processors with a deep explanation of each processor in this family\n",
      "3. Comparison between ARM and Xeon processors in terms of time-to-solution and energy-to-solution\n",
      "4. Discussion of the performance characteristics of Arm Neoverse N1 CPU in 7nm FinFET for infrastructure applications\n",
      "5. Examination of Arm Neoverse V2 platform and its leadership performance and power efficiency for next-generation cloud computing, ML, and HPC workloads\n",
      "6. Introduction to Skylake -SP processor and its 28-core Xeon processor\n",
      "7. Review of the performance evaluation of sparse matrix multiplication kernels on Intel Xeon Phi\n",
      "8. Explanation of the instruction-level energy model of Intel's Xeon Phi processor.\n",
      "Question: how many references are make in the paper?\n",
      "Answer: Based on the text you provided, there are 15 references cited in the paper.\n",
      "Question: which processor is the best out of all?\n",
      "Answer: Based on the research provided in the document, it appears that the best processor out of the three options (Intel Xeon W, Intel Xeon Phi, and AMD EPYC) depends on specific use cases and workloads. Here's a brief summary of each processor's strengths and weaknesses to help you make an informed decision:\n",
      "\n",
      "1. Intel Xeon W:\n",
      "Strengths:\n",
      "\t* Highest single-thread performance among the three processors (up to 32 cores)\n",
      "\t* Excellent memory bandwidth and cache hierarchy\n",
      "\t* Support for high-speed interconnects like Omni-Path and Optane\n",
      "Weaknesses:\n",
      "\t* Higher power consumption compared to AMD EPYC and Intel Xeon Phi\n",
      "\t* Limited support for DDR4 memory\n",
      "2. Intel Xeon Phi:\n",
      "Strengths:\n",
      "\t* High performance for parallel workloads, especially in the fields of scientific computing, machine learning, and data analytics\n",
      "\t* Support for both DDR4 and Intel Optane memory\n",
      "Weaknesses:\n",
      "\t* Lower single-thread performance compared to Intel Xeon W (up to 60 cores)\n",
      "\t* Limited support for high-speed interconnects like Omni-Path\n",
      "3. AMD EPYC:\n",
      "Strengths:\n",
      "\t* Competitive single-thread performance (up to 64 cores)\n",
      "\t* Excellent memory bandwidth and cache hierarchy\n",
      "\t* Support for high-speed interconnects like InfinityFabric\n",
      "Weaknesses:\n",
      "\t* Lower memory density compared to Intel Xeon W and Intel Xeon Phi\n",
      "\t* Limited support for DDR4 memory\n",
      "\n",
      "Based on these strengths and weaknesses, the best processor out of the three depends on your specific workload requirements. If you need high single-thread performance and are willing to sacrifice some memory density, Intel Xeon W might be the best choice. If you're working in fields like scientific computing, machine learning, or data analytics that benefit from parallel processing, Intel Xeon Phi could be a better option due to its strong performance in those workloads. AMD EPYC offers competitive single-thread performance and excellent memory bandwidth, making it a viable choice for applications that require both power and efficiency.\n",
      "\n",
      "It's important to note that these are general comparisons, and the best processor for a specific use case may depend on other factors like cost, software support, and availability of hardware components.\n",
      "Question: what are the strengths of intel's server processor?\n",
      "Answer: Intel's server processors have several strengths that make them suitable for demanding workloads in data centers and high-performance computing environments. Here are some of their key strengths:\n",
      "\n",
      "1. Performance: Intel's server processors, such as the Xeon W-3275X and Xeon SP-8275, offer exceptional performance for demanding workloads like artificial intelligence, machine learning, scientific simulations, and database management. They are designed to handle a large number of concurrent threads and provide high single-thread performance.\n",
      "2. Architecture: The latest Intel server processors are based on the Skylake microarchitecture, which offers improved performance and power efficiency compared to previous generations. They also feature a larger number of cores (up to 28 cores in the Xeon W-3275X) and threads (up to 48 threads in the Xeon SP-8275), providing better scalability and multitasking capabilities.\n",
      "3. Memory Bandwidth: Intel's server processors have a high memory bandwidth, which enables them to handle large datasets and perform complex computations efficiently. They also support features like Turbo Boost 3.0, which can increase the processor's clock speed during heavy workloads, further improving performance.\n",
      "4. Security: Intel's server processors are designed with security in mind, offering features like Intel Software Guard Extensions (SGX) and Intel Hyper-Threading Technology (iHT). These features help protect sensitive data and prevent unauthorized access to the system.\n",
      "5. Compatibility: Intel's server processors are widely compatible with various operating systems, including Windows Server, Linux, and FreeBSD. They also support a range of software frameworks and libraries, making it easier for developers to write efficient code and optimize their applications for these processors.\n",
      "6. Power Efficiency: While offering high performance, Intel's server processors are also designed to be power-efficient, which is essential for data centers that need to minimize cooling and energy costs. They feature built-in power management capabilities, such as Dynamic Stopping and Dynamic Accelerator Control, which help reduce power consumption when possible.\n",
      "7. Hardware Support: Intel's server processors offer hardware support for various acceleration technologies, including Intel Integrated Performance Primitives (IPP), Intel Math Kernel Library (MKL), and Intel Advanced Vector Extension 512 (AVX-512). These technologies can help accelerate certain workloads, such as scientific simulations and machine learning, further improving performance.\n",
      "8. Software Developer Support: Intel provides extensive software developer support for its server processors, including documentation, sample code, and tools like the Intel C++ Compiler and the Intel Fortran Compiler. These resources can help developers optimize their applications for these processors more efficiently.\n",
      "9. Scalability: Intel's server processors are designed to scale horizontally (add more processors) or vertically (upgrade to a more powerful processor), providing flexibility in how data centers deploy and manage their computing resources.\n",
      "10. Wide Range of Options: Intel offers a wide range of server processors with varying core counts, threads, clock speeds, and power consumption. This allows data center administrators to choose the best processor for their specific workload requirements, whether it's a high-performance compute task or a more energy-efficient option for a web server.\n",
      "\n",
      "In summary, Intel's server processors offer exceptional performance, architecture, security, compatibility, power efficiency, hardware support, software developer support, scalability, and a wide range of options to choose from, making them a popular choice for data centers and high-performance computing environments.\n"
     ]
    }
   ],
   "source": [
    "for q in questions:\n",
    "    print(f'Question: {q}')\n",
    "    print(f\"Answer: {chain.invoke({'question':q})}\")"
   ]
  },
  {
   "cell_type": "code",
   "execution_count": null,
   "metadata": {},
   "outputs": [],
   "source": []
  }
 ],
 "metadata": {
  "kernelspec": {
   "display_name": "medchat_env",
   "language": "python",
   "name": "python3"
  },
  "language_info": {
   "codemirror_mode": {
    "name": "ipython",
    "version": 3
   },
   "file_extension": ".py",
   "mimetype": "text/x-python",
   "name": "python",
   "nbconvert_exporter": "python",
   "pygments_lexer": "ipython3",
   "version": "3.8.19"
  }
 },
 "nbformat": 4,
 "nbformat_minor": 2
}
